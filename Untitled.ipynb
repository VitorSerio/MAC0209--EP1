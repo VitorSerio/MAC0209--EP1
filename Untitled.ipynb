{
 "cells": [
  {
   "cell_type": "markdown",
   "metadata": {},
   "source": [
    "Está célula calcula velocidade e aceleração média"
   ]
  },
  {
   "cell_type": "code",
   "execution_count": 131,
   "metadata": {},
   "outputs": [
    {
     "name": "stdout",
     "output_type": "stream",
     "text": [
      "     Tipo  Deslocado Pessoa Travessia  Distancia   Tempo\n",
      "0     MRU      False     P1        T1         10  17.125\n",
      "2     MRU      False     P1        T1         20  32.935\n",
      "4     MRU      False     P1        T1         30  47.505\n",
      "6     MRU      False     P1        T2         10  16.135\n",
      "8     MRU      False     P1        T2         20  27.635\n",
      "10    MRU      False     P1        T2         30  44.465\n",
      "12    MRU      False     P2        T1         10  11.295\n",
      "14    MRU      False     P2        T1         20  22.015\n",
      "16    MRU      False     P2        T1         30  33.380\n",
      "18    MRU      False     P2        T2         10  10.820\n",
      "20    MRU      False     P2        T2         20  21.930\n",
      "22    MRU      False     P2        T2         30  32.575\n",
      "24    MRU      False     P3        T1         10  13.570\n",
      "26    MRU      False     P3        T1         20  26.065\n",
      "28    MRU      False     P3        T1         30  38.965\n",
      "30    MRU      False     P3        T2         10  12.320\n",
      "31    MRU      False     P3        T2         10  12.160\n",
      "32    MRU      False     P3        T2         20  24.290\n",
      "33    MRU      False     P3        T2         20  24.050\n",
      "34    MRU      False     P3        T2         30  35.950\n",
      "35    MRU      False     P3        T2         30  35.840\n",
      "36    MRU       True     P1        T1          5   8.290\n",
      "37    MRU       True     P1        T1         10  14.950\n",
      "38    MRU       True     P1        T1         15  24.490\n",
      "39    MRU       True     P1        T1         20  29.160\n",
      "40    MRU       True     P1        T1         25  39.570\n",
      "41    MRU       True     P1        T1         30  43.350\n",
      "42    MRU       True     P2        T1          5   5.500\n",
      "43    MRU       True     P2        T1         10  10.780\n",
      "44    MRU       True     P2        T1         15  16.610\n",
      "..    ...        ...    ...       ...        ...     ...\n",
      "78   MRUV      False     P3        T1         10  12.620\n",
      "79   MRUV      False     P3        T1         10  12.520\n",
      "80   MRUV      False     P3        T1         20  24.360\n",
      "81   MRUV      False     P3        T1         20  24.250\n",
      "82   MRUV      False     P3        T1         30  35.470\n",
      "83   MRUV      False     P3        T1         30  35.350\n",
      "84   MRUV      False     P3        T2         10  13.310\n",
      "85   MRUV      False     P3        T2         10  13.690\n",
      "86   MRUV      False     P3        T2         20  25.550\n",
      "87   MRUV      False     P3        T2         20  25.860\n",
      "88   MRUV      False     P3        T2         30  36.570\n",
      "89   MRUV      False     P3        T2         30  36.880\n",
      "90   MRUV       True     P1        T1          5   7.340\n",
      "91   MRUV       True     P1        T1         10  16.200\n",
      "92   MRUV       True     P1        T1         15  20.950\n",
      "93   MRUV       True     P1        T1         20  29.180\n",
      "94   MRUV       True     P1        T1         25  31.930\n",
      "95   MRUV       True     P1        T1         30  39.900\n",
      "96   MRUV       True     P2        T1          5   7.700\n",
      "97   MRUV       True     P2        T1         10  14.610\n",
      "98   MRUV       True     P2        T1         15  20.770\n",
      "99   MRUV       True     P2        T1         20  26.370\n",
      "100  MRUV       True     P2        T1         25  31.790\n",
      "101  MRUV       True     P2        T1         30  37.420\n",
      "102  MRUV       True     P3        T1          5   7.820\n",
      "103  MRUV       True     P3        T1         10  16.110\n",
      "104  MRUV       True     P3        T1         15  22.920\n",
      "105  MRUV       True     P3        T1         20  28.730\n",
      "106  MRUV       True     P3        T1         25  35.060\n",
      "107  MRUV       True     P3        T1         30  39.250\n",
      "\n",
      "[93 rows x 6 columns]\n"
     ]
    }
   ],
   "source": [
    "import pandas as pd\n",
    "import numpy as np\n",
    "\n",
    "df1 = pd.read_csv(\"/home/mattconce/Documentos/BCC_IME/MAC0209/Projeto/EP01/EP01_GIT/MAC0209--EP1/tempos.csv\")\n",
    "df2 = df1.copy()\n",
    "\n",
    "row = 0    \n",
    "while row < 29:     \n",
    "    t1 = df2.at[row, 'Tempo']\n",
    "    t2 = df2.at[row+1, 'Tempo']   \n",
    "    df2.at[row, 'Tempo'] = ((t1 + t2)/2)\n",
    "    df2.drop(row+1, inplace=True)\n",
    "    row += 2\n",
    "    \n",
    "\n",
    "def mean(a):\n",
    "    m = 0\n",
    "    for i in range(len(a)):\n",
    "        m += a[i]\n",
    "    return m//len(a)\n",
    "\n",
    "#a = [1.3, 2.2, 5.6, 7.8]\n",
    "#print(mean(a))\n",
    "print(tempos)\n",
    "#print(tnd_mru)\n"
   ]
  },
  {
   "cell_type": "code",
   "execution_count": null,
   "metadata": {},
   "outputs": [],
   "source": []
  },
  {
   "cell_type": "code",
   "execution_count": null,
   "metadata": {},
   "outputs": [],
   "source": []
  }
 ],
 "metadata": {
  "kernelspec": {
   "display_name": "Python 3",
   "language": "python",
   "name": "python3"
  },
  "language_info": {
   "codemirror_mode": {
    "name": "ipython",
    "version": 3
   },
   "file_extension": ".py",
   "mimetype": "text/x-python",
   "name": "python",
   "nbconvert_exporter": "python",
   "pygments_lexer": "ipython3",
   "version": "3.6.4"
  }
 },
 "nbformat": 4,
 "nbformat_minor": 2
}
