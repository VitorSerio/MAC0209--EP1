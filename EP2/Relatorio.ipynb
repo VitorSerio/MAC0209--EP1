{
 "cells": [
  {
   "cell_type": "markdown",
   "metadata": {},
   "source": [
    "# Relatório de Modelagem e Simulação - Grupo Enzo\n",
    "\n",
    "**Membros**:\n",
    "- Ísis Ardisson Logullo\n",
    "- João Pedro Lukasavicus Silva\n",
    "- Leonardo Martinez Ikeda\n",
    "- Matheus Conceição\n",
    "- Vitor Barbosa Sério\n",
    "\n",
    "## Introdução\n",
    "\n",
    "\n",
    "\n",
    "Abaixo um link para o vídeo do experimento realizado.\n",
    "INSERIR LINK AQUI\n",
    "\n",
    "Agora, para iniciar o programa, vamos primeiro importar as bibliotecas que serão utilizadas."
   ]
  },
  {
   "cell_type": "code",
   "execution_count": 1,
   "metadata": {},
   "outputs": [],
   "source": [
    "import pandas as pd\n",
    "import numpy as np\n",
    "import matplotlib.pyplot as plt\n",
    "from IPython.display import display\n",
    "import math"
   ]
  },
  {
   "cell_type": "markdown",
   "metadata": {},
   "source": [
    "## Método\n"
   ]
  },
  {
   "cell_type": "code",
   "execution_count": null,
   "metadata": {},
   "outputs": [],
   "source": []
  },
  {
   "cell_type": "markdown",
   "metadata": {},
   "source": [
    "## Dados\n"
   ]
  },
  {
   "cell_type": "code",
   "execution_count": null,
   "metadata": {},
   "outputs": [],
   "source": []
  },
  {
   "cell_type": "markdown",
   "metadata": {},
   "source": []
  },
  {
   "cell_type": "code",
   "execution_count": null,
   "metadata": {},
   "outputs": [],
   "source": []
  },
  {
   "cell_type": "markdown",
   "metadata": {},
   "source": []
  },
  {
   "cell_type": "code",
   "execution_count": null,
   "metadata": {},
   "outputs": [],
   "source": []
  },
  {
   "cell_type": "markdown",
   "metadata": {},
   "source": []
  },
  {
   "cell_type": "code",
   "execution_count": null,
   "metadata": {},
   "outputs": [],
   "source": []
  },
  {
   "cell_type": "markdown",
   "metadata": {},
   "source": []
  },
  {
   "cell_type": "code",
   "execution_count": null,
   "metadata": {},
   "outputs": [],
   "source": []
  },
  {
   "cell_type": "markdown",
   "metadata": {},
   "source": [
    "## Interpretação\n",
    "\n",
    "\n",
    "\n",
    "## Crítica\n",
    "\n",
    "\n",
    "\n",
    "## Registro\n",
    "\n",
    "- Realização do experimento\n",
    "- Anotação dos dados\n",
    "- Gravação do vídeo\n",
    "- Edição do video e upload no youtube\n",
    "- Criação do código de plotagem e analise dos dados e dos erros\n",
    "- Criação dos gráficos\n",
    "- Estruturação e redação do relatório"
   ]
  }
 ],
 "metadata": {
  "kernelspec": {
   "display_name": "Python 3",
   "language": "python",
   "name": "python3"
  },
  "language_info": {
   "codemirror_mode": {
    "name": "ipython",
    "version": 3
   },
   "file_extension": ".py",
   "mimetype": "text/x-python",
   "name": "python",
   "nbconvert_exporter": "python",
   "pygments_lexer": "ipython3",
   "version": "3.6.4"
  }
 },
 "nbformat": 4,
 "nbformat_minor": 2
}
