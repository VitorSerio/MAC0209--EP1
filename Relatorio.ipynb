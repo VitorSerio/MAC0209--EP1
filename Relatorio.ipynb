{
 "cells": [
  {
   "cell_type": "markdown",
   "metadata": {},
   "source": []
  },
  {
   "cell_type": "code",
   "execution_count": 1,
   "metadata": {},
   "outputs": [],
   "source": [
    "import pandas as pd\n",
    "import numpy as np"
   ]
  },
  {
   "cell_type": "markdown",
   "metadata": {},
   "source": []
  },
  {
   "cell_type": "code",
   "execution_count": 3,
   "metadata": {},
   "outputs": [],
   "source": [
    "raw_data = pd.read_csv(\"tempos.csv\")\n",
    "data = raw_data[raw_data['Deslocado'] == False].copy()\n",
    "\n",
    "for row in data.index.values:\n",
    "    try:\n",
    "        t1 = data.at[row, 'Tempo']\n",
    "        t2 = data.at[row + 1, 'Tempo']\n",
    "        data.at[row, 'Tempo'] = ((t1 + t2)/2)\n",
    "        data = data.drop(row + 1)\n",
    "        pass\n",
    "    except:\n",
    "        continue\n",
    "    \n",
    "data = pd.concat([data, raw_data[raw_data['Deslocado'] == True]])"
   ]
  },
  {
   "cell_type": "code",
   "execution_count": null,
   "metadata": {},
   "outputs": [],
   "source": []
  }
 ],
 "metadata": {
  "kernelspec": {
   "display_name": "Python 3",
   "language": "python",
   "name": "python3"
  },
  "language_info": {
   "codemirror_mode": {
    "name": "ipython",
    "version": 3
   },
   "file_extension": ".py",
   "mimetype": "text/x-python",
   "name": "python",
   "nbconvert_exporter": "python",
   "pygments_lexer": "ipython3",
   "version": "3.6.4"
  }
 },
 "nbformat": 4,
 "nbformat_minor": 2
}
