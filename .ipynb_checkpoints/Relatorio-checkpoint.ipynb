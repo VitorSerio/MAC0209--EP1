{
 "cells": [
  {
   "cell_type": "markdown",
   "metadata": {},
   "source": []
  },
  {
   "cell_type": "code",
   "execution_count": 1,
   "metadata": {},
   "outputs": [],
   "source": [
    "import pandas as pd\n",
    "import matplotlib.pyplot as plt\n",
    "import numpy as np"
   ]
  },
  {
   "cell_type": "markdown",
   "metadata": {},
   "source": []
  },
  {
   "cell_type": "code",
   "execution_count": 3,
   "metadata": {},
   "outputs": [],
   "source": [
    "raw_data = pd.read_csv('tempos.csv')\n",
    "data = raw_data[raw_data['Deslocado'] == False].copy()\n",
    "\n",
    "for row in data.index.values:\n",
    "    try:\n",
    "        t1 = data.at[row, 'Tempo']\n",
    "        t2 = data.at[row + 1, 'Tempo']\n",
    "        data.at[row, 'Tempo'] = ((t1 + t2)/2)\n",
    "        data = data.drop(row + 1)\n",
    "        pass\n",
    "    except:\n",
    "        continue\n",
    "    \n",
    "data = pd.concat([data, raw_data[raw_data['Deslocado'] == True]])"
   ]
  },
  {
   "cell_type": "code",
   "execution_count": null,
   "metadata": {},
   "outputs": [],
   "source": [
    "\"\"\"\n",
    "1011\n",
    "1012\n",
    "1111\n",
    "\"\"\"\n",
    "\n",
    "aux = [0, 1]\n",
    "pessoas = [1, 2, 3]\n",
    "travessias = [1, 2]\n",
    "\n",
    "for m in aux:\n",
    "    for d in aux:\n",
    "        for p in pessoas:\n",
    "            for t in travessias:\n",
    "                \n",
    "                if d == 1 and t == 2:\n",
    "                    continue\n",
    "                \n",
    "                filename = 'ac' + str(m) + str(d) + str(p) + str(t) + '.csv'\n",
    "                data = pd.read_csv(filename)\n",
    "                \n",
    "                plt.title(filename)\n",
    "                plt.xlabel('Tempo')\n",
    "                plt.ylabel('Aceleração')\n",
    "                plt.plot('time', 'aT', data = data)\n",
    "                plt.show()"
   ]
  }
 ],
 "metadata": {
  "kernelspec": {
   "display_name": "Python 3",
   "language": "python",
   "name": "python3"
  },
  "language_info": {
   "codemirror_mode": {
    "name": "ipython",
    "version": 3
   },
   "file_extension": ".py",
   "mimetype": "text/x-python",
   "name": "python",
   "nbconvert_exporter": "python",
   "pygments_lexer": "ipython3",
   "version": "3.6.4"
  }
 },
 "nbformat": 4,
 "nbformat_minor": 2
}
